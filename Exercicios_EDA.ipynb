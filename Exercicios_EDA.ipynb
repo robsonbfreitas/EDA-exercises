{
  "nbformat": 4,
  "nbformat_minor": 0,
  "metadata": {
    "anaconda-cloud": {},
    "kernelspec": {
      "display_name": "Python 3",
      "language": "python",
      "name": "python3"
    },
    "language_info": {
      "codemirror_mode": {
        "name": "ipython",
        "version": 3
      },
      "file_extension": ".py",
      "mimetype": "text/x-python",
      "name": "python",
      "nbconvert_exporter": "python",
      "pygments_lexer": "ipython3",
      "version": "3.7.9"
    },
    "colab": {
      "name": "Exercicios_EDA.ipynb",
      "provenance": [],
      "toc_visible": true
    }
  },
  "cells": [
    {
      "cell_type": "markdown",
      "metadata": {
        "id": "tamfgBF5_ucn"
      },
      "source": [
        "![](https://i.imgur.com/JsMvGnP.png)\n"
      ]
    },
    {
      "cell_type": "markdown",
      "metadata": {
        "id": "rPl368y-_ucv"
      },
      "source": [
        "## Exercício de análise exploratória de dados"
      ]
    },
    {
      "cell_type": "markdown",
      "metadata": {
        "id": "voaOkEN6_ucw"
      },
      "source": [
        "Neste projeto você irá realizar uma análise estatística exploratória de um dos datasets mais famosos da comunidade de Data Science: o dataset **Titanic**.\\\n",
        "Essa base contém dados de 891 passageiros do Titanic. A análise vai ser guiada pelas perguntas apresentadas no decorrer do notebook.\\\n",
        "Todo o projeto deve ser executado neste Jupyter Notebook. Por fim, se desejar, revise as respostas com o seu mentor."
      ]
    },
    {
      "cell_type": "markdown",
      "metadata": {
        "id": "oAsFLrDe_ucx"
      },
      "source": [
        "### Descrição dos dados\n",
        "\n",
        "O dataset possui 891 registros (linhas) e 12 atributos (colunas).\n",
        "\n",
        "Abaixo estão as descrições das colunas do nosso Dataset:\n",
        "\n",
        "* passengerid = ID do passageiro do navio (código primário).\n",
        "* survived = Se o passageiro sobreviveu ao naufrágio estará como 1, caso contrário estará com 0.\n",
        "* pclass = Tipo de classe de passagem (do 1 ao 3), sendo 1 a melhor classe.\n",
        "* name = Nome do passageiro.\n",
        "* sex = Gênero do passageiro, sendo masculino e feminino.\n",
        "* age = Idade do passageiro na data da ocorrência do naufrágio.\n",
        "* sibsp = Número de irmãos / cônjuges a bordo.\n",
        "* parch = Número de pais / filhos a bordo.\n",
        "* ticket = Código do ticket.\n",
        "* fare = Valor da passagem.\n",
        "* cabin = Código de identificação da Cabine.\n",
        "* embarked = Local ondem o passageiro embarcou no navio."
      ]
    },
    {
      "cell_type": "markdown",
      "metadata": {
        "id": "Uj-IflqM_ucx"
      },
      "source": [
        "#### Carregando os dados"
      ]
    },
    {
      "cell_type": "code",
      "metadata": {
        "colab": {
          "base_uri": "https://localhost:8080/",
          "height": 272
        },
        "id": "2IwP4pLQ_ucy",
        "outputId": "60cf6f98-1b28-4115-8603-594ad8bcc990"
      },
      "source": [
        "import pandas as pd\n",
        "\n",
        "# Carregando os dados\n",
        "# O arquivo “titanic.csv” deve estar salvo na mesma pasta do seu código Python\n",
        "dados = pd.read_csv(\"titanic.csv\")\n",
        "\n",
        "# Exibe o número de linhas e colunas\n",
        "print(dados.shape)\n",
        "\n",
        "# Exibe as 10 primeiras linhas\n",
        "dados.head()"
      ],
      "execution_count": 1,
      "outputs": [
        {
          "output_type": "stream",
          "text": [
            "(891, 12)\n"
          ],
          "name": "stdout"
        },
        {
          "output_type": "execute_result",
          "data": {
            "text/html": [
              "<div>\n",
              "<style scoped>\n",
              "    .dataframe tbody tr th:only-of-type {\n",
              "        vertical-align: middle;\n",
              "    }\n",
              "\n",
              "    .dataframe tbody tr th {\n",
              "        vertical-align: top;\n",
              "    }\n",
              "\n",
              "    .dataframe thead th {\n",
              "        text-align: right;\n",
              "    }\n",
              "</style>\n",
              "<table border=\"1\" class=\"dataframe\">\n",
              "  <thead>\n",
              "    <tr style=\"text-align: right;\">\n",
              "      <th></th>\n",
              "      <th>PassengerId</th>\n",
              "      <th>Survived</th>\n",
              "      <th>Pclass</th>\n",
              "      <th>Name</th>\n",
              "      <th>Sex</th>\n",
              "      <th>Age</th>\n",
              "      <th>SibSp</th>\n",
              "      <th>Parch</th>\n",
              "      <th>Ticket</th>\n",
              "      <th>Fare</th>\n",
              "      <th>Cabin</th>\n",
              "      <th>Embarked</th>\n",
              "    </tr>\n",
              "  </thead>\n",
              "  <tbody>\n",
              "    <tr>\n",
              "      <th>0</th>\n",
              "      <td>1</td>\n",
              "      <td>0</td>\n",
              "      <td>3</td>\n",
              "      <td>Braund, Mr. Owen Harris</td>\n",
              "      <td>male</td>\n",
              "      <td>22.0</td>\n",
              "      <td>1</td>\n",
              "      <td>0</td>\n",
              "      <td>A/5 21171</td>\n",
              "      <td>7.2500</td>\n",
              "      <td>NaN</td>\n",
              "      <td>S</td>\n",
              "    </tr>\n",
              "    <tr>\n",
              "      <th>1</th>\n",
              "      <td>2</td>\n",
              "      <td>1</td>\n",
              "      <td>1</td>\n",
              "      <td>Cumings, Mrs. John Bradley (Florence Briggs Th...</td>\n",
              "      <td>female</td>\n",
              "      <td>38.0</td>\n",
              "      <td>1</td>\n",
              "      <td>0</td>\n",
              "      <td>PC 17599</td>\n",
              "      <td>71.2833</td>\n",
              "      <td>C85</td>\n",
              "      <td>C</td>\n",
              "    </tr>\n",
              "    <tr>\n",
              "      <th>2</th>\n",
              "      <td>3</td>\n",
              "      <td>1</td>\n",
              "      <td>3</td>\n",
              "      <td>Heikkinen, Miss. Laina</td>\n",
              "      <td>female</td>\n",
              "      <td>26.0</td>\n",
              "      <td>0</td>\n",
              "      <td>0</td>\n",
              "      <td>STON/O2. 3101282</td>\n",
              "      <td>7.9250</td>\n",
              "      <td>NaN</td>\n",
              "      <td>S</td>\n",
              "    </tr>\n",
              "    <tr>\n",
              "      <th>3</th>\n",
              "      <td>4</td>\n",
              "      <td>1</td>\n",
              "      <td>1</td>\n",
              "      <td>Futrelle, Mrs. Jacques Heath (Lily May Peel)</td>\n",
              "      <td>female</td>\n",
              "      <td>35.0</td>\n",
              "      <td>1</td>\n",
              "      <td>0</td>\n",
              "      <td>113803</td>\n",
              "      <td>53.1000</td>\n",
              "      <td>C123</td>\n",
              "      <td>S</td>\n",
              "    </tr>\n",
              "    <tr>\n",
              "      <th>4</th>\n",
              "      <td>5</td>\n",
              "      <td>0</td>\n",
              "      <td>3</td>\n",
              "      <td>Allen, Mr. William Henry</td>\n",
              "      <td>male</td>\n",
              "      <td>35.0</td>\n",
              "      <td>0</td>\n",
              "      <td>0</td>\n",
              "      <td>373450</td>\n",
              "      <td>8.0500</td>\n",
              "      <td>NaN</td>\n",
              "      <td>S</td>\n",
              "    </tr>\n",
              "  </tbody>\n",
              "</table>\n",
              "</div>"
            ],
            "text/plain": [
              "   PassengerId  Survived  Pclass  ...     Fare Cabin  Embarked\n",
              "0            1         0       3  ...   7.2500   NaN         S\n",
              "1            2         1       1  ...  71.2833   C85         C\n",
              "2            3         1       3  ...   7.9250   NaN         S\n",
              "3            4         1       1  ...  53.1000  C123         S\n",
              "4            5         0       3  ...   8.0500   NaN         S\n",
              "\n",
              "[5 rows x 12 columns]"
            ]
          },
          "metadata": {
            "tags": []
          },
          "execution_count": 1
        }
      ]
    },
    {
      "cell_type": "code",
      "metadata": {
        "colab": {
          "base_uri": "https://localhost:8080/"
        },
        "id": "lQFff0aENYin",
        "outputId": "f72ea6d6-fa57-4901-c977-b40015a9c98a"
      },
      "source": [
        "dados.dtypes"
      ],
      "execution_count": null,
      "outputs": [
        {
          "output_type": "execute_result",
          "data": {
            "text/plain": [
              "PassengerId      int64\n",
              "Survived         int64\n",
              "Pclass           int64\n",
              "Name            object\n",
              "Sex             object\n",
              "Age            float64\n",
              "SibSp            int64\n",
              "Parch            int64\n",
              "Ticket          object\n",
              "Fare           float64\n",
              "Cabin           object\n",
              "Embarked        object\n",
              "dtype: object"
            ]
          },
          "metadata": {
            "tags": []
          },
          "execution_count": 2
        }
      ]
    },
    {
      "cell_type": "markdown",
      "metadata": {
        "id": "BJxEfkfB_ucz"
      },
      "source": [
        "#### 1. Qual foi a proporção de passageiros sobreviventes?\n",
        "\n",
        "Dica: use a função value_counts() do pandas com o parâmetro _normalize_"
      ]
    },
    {
      "cell_type": "code",
      "metadata": {
        "colab": {
          "base_uri": "https://localhost:8080/"
        },
        "id": "rQ22E-j6_ucz",
        "outputId": "40b1ca45-8712-4974-a53b-fb9a02fafd58"
      },
      "source": [
        "# Seu código\n",
        "dados['Survived'].value_counts(normalize=True)"
      ],
      "execution_count": null,
      "outputs": [
        {
          "output_type": "execute_result",
          "data": {
            "text/plain": [
              "0    0.616162\n",
              "1    0.383838\n",
              "Name: Survived, dtype: float64"
            ]
          },
          "metadata": {
            "tags": []
          },
          "execution_count": 3
        }
      ]
    },
    {
      "cell_type": "code",
      "metadata": {
        "id": "zcBKEvAX_uc0"
      },
      "source": [
        ""
      ],
      "execution_count": null,
      "outputs": []
    },
    {
      "cell_type": "markdown",
      "metadata": {
        "id": "GZtLRXYS_uc0"
      },
      "source": [
        "#### 2. Qual era a faixa etária dos passageiros que estavam no Titanic?"
      ]
    },
    {
      "cell_type": "code",
      "metadata": {
        "colab": {
          "base_uri": "https://localhost:8080/"
        },
        "id": "9R89ADjE_uc0",
        "outputId": "6b2350ed-b0db-4f8b-d387-ca661cc7fb29"
      },
      "source": [
        "# Seu código\n",
        "print ('De ' + str(dados['Age'].min()) + ' a ' + str(dados['Age'].max())) "
      ],
      "execution_count": null,
      "outputs": [
        {
          "output_type": "stream",
          "text": [
            "De 0.42 a 80.0\n"
          ],
          "name": "stdout"
        }
      ]
    },
    {
      "cell_type": "code",
      "metadata": {
        "id": "mP-lMaMv_uc1",
        "outputId": "66627752-ae3c-42ed-84c7-df71a145d110"
      },
      "source": [
        ""
      ],
      "execution_count": null,
      "outputs": [
        {
          "output_type": "stream",
          "text": [
            "De 0.42 a 80.0\n"
          ],
          "name": "stdout"
        }
      ]
    },
    {
      "cell_type": "markdown",
      "metadata": {
        "id": "BJ7_Q-ni_uc1"
      },
      "source": [
        "#### 3. Qual porcentagem de homens e mulheres sobreviventes?"
      ]
    },
    {
      "cell_type": "code",
      "metadata": {
        "colab": {
          "base_uri": "https://localhost:8080/"
        },
        "id": "I-ymEDHW_uc1",
        "outputId": "2fbc2d0e-d61c-44c8-aa70-55f6991892a4"
      },
      "source": [
        "# Seu código\n",
        "print('Mulheres: ' + str(dados.query('Sex == \"female\"').Survived.mean()))\n",
        "print('Homens: ' + str(dados.query('Sex == \"male\"').Survived.mean()))"
      ],
      "execution_count": null,
      "outputs": [
        {
          "output_type": "stream",
          "text": [
            "Mulheres: 0.7420382165605095\n",
            "Homens: 0.18890814558058924\n"
          ],
          "name": "stdout"
        }
      ]
    },
    {
      "cell_type": "code",
      "metadata": {
        "id": "TLVVYb0d_uc1",
        "outputId": "5bf3ecce-5a5b-4c38-a153-f69899ba64f3"
      },
      "source": [
        ""
      ],
      "execution_count": null,
      "outputs": [
        {
          "output_type": "stream",
          "text": [
            "Mulheres:  0.7420382165605095\n",
            "Homens:  0.18890814558058924\n"
          ],
          "name": "stdout"
        }
      ]
    },
    {
      "cell_type": "markdown",
      "metadata": {
        "id": "S9gzvIGA_uc2"
      },
      "source": [
        "#### 4. Quais os tipos de variáveis nas colunas survived, pclass, name, sex e age?\n",
        "\n",
        "[Dica ...](http://professorguru.com.br/estatistica/introdu%C3%A7%C3%A3o%20%C3%A0%20estat%C3%ADstica/tipos%20de%20vari%C3%A1veis%20estat%C3%ADsticas.html)"
      ]
    },
    {
      "cell_type": "code",
      "metadata": {
        "colab": {
          "base_uri": "https://localhost:8080/"
        },
        "id": "dbhHwbq1_uc2",
        "outputId": "770b8e5d-c33a-4e1d-a7b3-e7d9e3268d43"
      },
      "source": [
        "# Seu código\n"
      ],
      "execution_count": null,
      "outputs": [
        {
          "output_type": "execute_result",
          "data": {
            "text/plain": [
              "dtype('int64')"
            ]
          },
          "metadata": {
            "tags": []
          },
          "execution_count": 61
        }
      ]
    },
    {
      "cell_type": "code",
      "metadata": {
        "id": "9AHROJdf_uc2"
      },
      "source": [
        "# Resposta excluída propositalmente"
      ],
      "execution_count": null,
      "outputs": []
    },
    {
      "cell_type": "markdown",
      "metadata": {
        "id": "kt9laxMd_uc2"
      },
      "source": [
        "#### 5. Qual o tipo de classe de passagem mais frequente nos dados?"
      ]
    },
    {
      "cell_type": "code",
      "metadata": {
        "id": "pF1shsZt_uc2",
        "colab": {
          "base_uri": "https://localhost:8080/"
        },
        "outputId": "07a05597-00b4-42af-d09a-221463d01bfa"
      },
      "source": [
        "# Seu código\n",
        "dados['Pclass'].value_counts()"
      ],
      "execution_count": null,
      "outputs": [
        {
          "output_type": "execute_result",
          "data": {
            "text/plain": [
              "3    491\n",
              "1    216\n",
              "2    184\n",
              "Name: Pclass, dtype: int64"
            ]
          },
          "metadata": {
            "tags": []
          },
          "execution_count": 6
        }
      ]
    },
    {
      "cell_type": "code",
      "metadata": {
        "id": "O6pX_X6A_uc3",
        "outputId": "ad6aaf8b-5ad7-4a71-91d4-37941679070d"
      },
      "source": [
        ""
      ],
      "execution_count": null,
      "outputs": [
        {
          "output_type": "execute_result",
          "data": {
            "text/plain": [
              "3    491\n",
              "1    216\n",
              "2    184\n",
              "Name: Pclass, dtype: int64"
            ]
          },
          "metadata": {
            "tags": []
          },
          "execution_count": 46
        }
      ]
    },
    {
      "cell_type": "markdown",
      "metadata": {
        "id": "WseRSvYF_uc3"
      },
      "source": [
        "#### 6. Qual a média e desvio padrão do valor das passagens?"
      ]
    },
    {
      "cell_type": "code",
      "metadata": {
        "id": "A_orKxqjnt0M"
      },
      "source": [
        ""
      ],
      "execution_count": null,
      "outputs": []
    },
    {
      "cell_type": "code",
      "metadata": {
        "colab": {
          "base_uri": "https://localhost:8080/"
        },
        "id": "Sf02QZ-TmfcC",
        "outputId": "62a9f8a5-160c-4975-ee00-a281abed8539"
      },
      "source": [
        "print ('Média: ' + str(dados['Fare'].mean()))\n",
        "print ('Desvio padrão: ' + str(dados['Fare'].std()))"
      ],
      "execution_count": null,
      "outputs": [
        {
          "output_type": "stream",
          "text": [
            "Média: 32.2042079685746\n",
            "Desvio padrão: 49.693428597180905\n"
          ],
          "name": "stdout"
        }
      ]
    },
    {
      "cell_type": "code",
      "metadata": {
        "id": "Kg-Q7XA__uc3",
        "outputId": "dd7fe7d7-5c97-4431-a06f-8a0a45d89bcd"
      },
      "source": [
        ""
      ],
      "execution_count": null,
      "outputs": [
        {
          "output_type": "stream",
          "text": [
            "Méida: 32.2042079685746\n",
            "Desvio Padrão: 49.693428597180905\n"
          ],
          "name": "stdout"
        }
      ]
    },
    {
      "cell_type": "code",
      "metadata": {
        "id": "o5drW2Uw_uc4"
      },
      "source": [
        "import matplotlib.pyplot as plt\n",
        "import seaborn as sns"
      ],
      "execution_count": 2,
      "outputs": []
    },
    {
      "cell_type": "markdown",
      "metadata": {
        "id": "nYrFg0P-_uc4"
      },
      "source": [
        "#### 7. Existem outliers na coluna age? Quais? Crie um boxplot para esse atributo."
      ]
    },
    {
      "cell_type": "code",
      "metadata": {
        "id": "N8y8I_Mg_uc4",
        "colab": {
          "base_uri": "https://localhost:8080/",
          "height": 285
        },
        "outputId": "ec5d6c65-0f5c-4235-b56b-e8c353cf9aff"
      },
      "source": [
        "# Seu código\n",
        "sns.set_theme(style='whitegrid')\n",
        "sns.boxplot(data=dados['Age'], palette='Accent', width=0.2)"
      ],
      "execution_count": null,
      "outputs": [
        {
          "output_type": "execute_result",
          "data": {
            "text/plain": [
              "<matplotlib.axes._subplots.AxesSubplot at 0x7f08c98ec850>"
            ]
          },
          "metadata": {
            "tags": []
          },
          "execution_count": 27
        },
        {
          "output_type": "display_data",
          "data": {
            "image/png": "[encoded data removed]",
            "text/plain": [
              "<Figure size 432x288 with 1 Axes>"
            ]
          },
          "metadata": {
            "tags": []
          }
        }
      ]
    },
    {
      "cell_type": "code",
      "metadata": {
        "id": "7Og57pXq_uc4",
        "outputId": "0cce4cbb-62d9-4a67-f59d-86cceef81121"
      },
      "source": [
        ""
      ],
      "execution_count": null,
      "outputs": [
        {
          "output_type": "execute_result",
          "data": {
            "text/plain": [
              "<matplotlib.axes._subplots.AxesSubplot at 0x11c3903d0>"
            ]
          },
          "metadata": {
            "tags": []
          },
          "execution_count": 56
        },
        {
          "output_type": "display_data",
          "data": {
            "image/png": "[encoded data removed]",
            "text/plain": [
              "<Figure size 432x288 with 1 Axes>"
            ]
          },
          "metadata": {
            "tags": [],
            "needs_background": "light"
          }
        }
      ]
    },
    {
      "cell_type": "markdown",
      "metadata": {
        "id": "pR4JKfEp_uc4"
      },
      "source": [
        "#### 8. Cria um histograma para os atributos age, pclass e fare. Quais informações você pode extrair desses gráficos?\n"
      ]
    },
    {
      "cell_type": "code",
      "metadata": {
        "id": "QfP6_PIM_uc4",
        "colab": {
          "base_uri": "https://localhost:8080/",
          "height": 606
        },
        "outputId": "17b36955-62fc-424d-a996-651d0a2eed82"
      },
      "source": [
        "# Seu código\n",
        "fig = plt.figure(figsize=(10,10))\n",
        "sns.set_style('ticks')\n",
        "ax1 = fig.add_subplot(221)\n",
        "#ax1.tick_params(axis='both', color='b')\n",
        "\n",
        "#sns.set_style('whitegrid')\n",
        "ax1 = sns.histplot(data=dados['Age'], bins=10,)\n",
        "\n",
        "ax2 = fig.add_subplot(222)\n",
        "ax2 = sns.histplot(data=dados['Fare'], bins=5)\n",
        "ax3 = fig.add_subplot(212)\n",
        "ax3 = sns.histplot(data=dados['Pclass'])\n",
        "\n"
      ],
      "execution_count": 33,
      "outputs": [
        {
          "output_type": "display_data",
          "data": {
            "image/png": "[encoded data removed]",
            "text/plain": [
              "<Figure size 720x720 with 3 Axes>"
            ]
          },
          "metadata": {
            "tags": []
          }
        }
      ]
    },
    {
      "cell_type": "code",
      "metadata": {
        "scrolled": false,
        "id": "dmdsOQVb_uc5",
        "outputId": "21f8be49-38f6-4371-a518-4b9f63941c10"
      },
      "source": [
        ""
      ],
      "execution_count": null,
      "outputs": [
        {
          "output_type": "execute_result",
          "data": {
            "text/plain": [
              "array([[<matplotlib.axes._subplots.AxesSubplot object at 0x11ce18650>,\n",
              "        <matplotlib.axes._subplots.AxesSubplot object at 0x11d480b10>],\n",
              "       [<matplotlib.axes._subplots.AxesSubplot object at 0x11d4a0e90>,\n",
              "        <matplotlib.axes._subplots.AxesSubplot object at 0x11d4c8850>]],\n",
              "      dtype=object)"
            ]
          },
          "metadata": {
            "tags": []
          },
          "execution_count": 61
        },
        {
          "output_type": "display_data",
          "data": {
            "image/png": "[encoded data removed]",
            "text/plain": [
              "<Figure size 864x576 with 4 Axes>"
            ]
          },
          "metadata": {
            "tags": [],
            "needs_background": "light"
          }
        }
      ]
    },
    {
      "cell_type": "markdown",
      "metadata": {
        "id": "VhvNkrZ4_uc5"
      },
      "source": [
        "Ótimo trabalho!"
      ]
    },
    {
      "cell_type": "code",
      "metadata": {
        "id": "NkXQoXqG_uc5"
      },
      "source": [
        ""
      ],
      "execution_count": null,
      "outputs": []
    }
  ]
}